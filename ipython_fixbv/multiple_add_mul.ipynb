{
 "metadata": {
  "name": "multiple_add_mul"
 },
 "nbformat": 3,
 "nbformat_minor": 0,
 "worksheets": [
  {
   "cells": [
    {
     "cell_type": "markdown",
     "metadata": {},
     "source": [
      "The following code will generate up to 8 instances of add_mul which is the main function of DWT used in JPEG 2000.  It will generate a list of signals"
     ]
    },
    {
     "cell_type": "code",
     "collapsed": false,
     "input": [
      "!cat multiple_add_mul.py"
     ],
     "language": "python",
     "metadata": {},
     "outputs": [
      {
       "output_type": "stream",
       "stream": "stdout",
       "text": [
        "from myhdl import *\r\n",
        "from add_mul import *\r\n",
        "def top_level(d3,a2,clk,x2,x3,x4,x5,p,even_odd,fwd_inv,n=8):\r\n",
        "\t\"\"\" Function doc \"\"\"\r\n",
        "\tmult_add_mul_inst = []\r\n",
        "\r\n",
        "\td3 = [Signal(fixbv(0)[ww]) for i in range(n)]\r\n",
        "\ta2 = [Signal(fixbv(0)[ww]) for i in range(n)]\r\n",
        "\tx2 = [Signal(fixbv(156)[ww]) for i in range(n)]\r\n",
        "\tx3 = [Signal(fixbv(164)[ww]) for i in range(n)]\r\n",
        "\tx4 = [Signal(fixbv(156)[ww]) for i in range(n)]\r\n",
        "\tx5 = [Signal(fixbv(156)[ww]) for i in range(n)]\r\n",
        "\tclk = Signal(bool(0))\r\n",
        "\teven_odd = [Signal(bool(0)) for i in range(n)]\r\n",
        "\tp = [Signal(bool(0)) for i in range(n)]\r\n",
        "\tfwd_inv = [Signal(bool(0)) for i in range(n)]\r\n",
        "\t#print d3,a2,clk,x2,x3,x4,x5,p,even_odd,fwd_inv\r\n",
        "\t \r\n",
        "\tfor i in range(n):\r\n",
        "\t\t \r\n",
        "\t\ttmp = add_mul(d3[i],a2[i],clk,x2[i],x3[i],x4[i],x5[i],p[i],even_odd[i],fwd_inv[i])\r\n",
        "\t\t \r\n",
        "\t\tmult_add_mul_inst.append(tmp)\r\n",
        "\t\t \r\n",
        "\t\r\n",
        "\treturn mult_add_mul_inst\r\n",
        "\t \r\n",
        "#print dir(top_level)\r\n",
        "#print dir(add_mul)\r\n",
        "mult_inst = top_level(d3,a2,clk,x2,x3,x4,x5,p,even_odd,fwd_inv)\r\n",
        "\r\n",
        "print len(mult_inst),type(mult_inst)\r\n",
        "\r\n"
       ]
      }
     ],
     "prompt_number": 2
    },
    {
     "cell_type": "markdown",
     "metadata": {},
     "source": [
      "The main method is add_mul.  Depending on the p , even_odd (True even samples) , and fwd_inv (True forward coefficients)  two pixels are added then muliplied by one of 8 coefficients"
     ]
    },
    {
     "cell_type": "code",
     "collapsed": false,
     "input": [
      "!cat add_mul.py"
     ],
     "language": "python",
     "metadata": {},
     "outputs": [
      {
       "output_type": "stream",
       "stream": "stdout",
       "text": [
        "from myhdl import *\r\n",
        "\r\n",
        "\r\n",
        "\r\n",
        "# 9/7 Coefficients:\r\n",
        "#a1 = -1.586134342\r\n",
        "#a2 = -0.05298011854\r\n",
        "#a3 = 0.8829110762\r\n",
        "#a4 = 0.4435068522\r\n",
        "ww = (24,14)\r\n",
        "d3 = Signal(fixbv(0)[ww])\r\n",
        "a2 = Signal(fixbv(0)[ww])\r\n",
        " \r\n",
        "x2 = Signal(fixbv(156)[ww])\r\n",
        "x3 = Signal(fixbv(164)[ww]) \r\n",
        "#from prev operation\r\n",
        "x4 = Signal(fixbv(156)[ww])\r\n",
        "x5 = Signal(fixbv(156)[ww])\r\n",
        "clk = Signal(bool(0))\r\n",
        "even_odd = Signal(bool(0)) \r\n",
        "p = Signal(bool(0))\r\n",
        "fwd_inv = Signal(bool(0))         \r\n",
        "\r\n",
        "\r\n",
        "def add_mul(d3,a2,clk,x2,x3,x4,x5,p,even_odd,fwd_inv):\r\n",
        "\tca1 = Signal(fixbv(-1.586134342)[ww])\r\n",
        "\tca2 = Signal(fixbv(-0.05298011854)[ww])\r\n",
        "\tca3 = Signal(fixbv(0.8829110762)[ww])\r\n",
        "\tca4 = Signal(fixbv(0.4435068522)[ww])\r\n",
        "\tra1 = Signal(fixbv(1.586134342)[ww])\r\n",
        "\tra2 = Signal(fixbv(0.05298011854)[ww])\r\n",
        "\tra3 = Signal(fixbv(-0.8829110762)[ww])\r\n",
        "\tra4 = Signal(fixbv(-0.4435068522)[ww])\r\n",
        "\tt = Signal(fixbv(0)[ww])\r\n",
        "\tt1 = Signal(fixbv(0)[ww])\r\n",
        "\t@always(clk.posedge)\r\n",
        "\tdef rtl():\r\n",
        "\r\n",
        "\t\tif not p:\r\n",
        "\t\t\r\n",
        "\t\t\tif even_odd:\r\n",
        "\t\t\t\t\r\n",
        "\t\t\t\r\n",
        "\t\t\t\tif fwd_inv:\r\n",
        "\t\t\t\t\t \r\n",
        "\t\t\t\t\tt = (x2+x3) * ca1\r\n",
        "\t\t\t\t\td3.next = t\r\n",
        "\t\t\t\r\n",
        "\t\t\t\telse:\r\n",
        "\t\t\t\t\t \r\n",
        "\t\t\t\t\tt1 = (x4+x5) * ra4 \t\t\t\t\r\n",
        "\t\t\t\t\ta2.next = t1\t\r\n",
        "\t\t\telse:\r\n",
        "\t\t\t\t\r\n",
        "\t\t\t\tif fwd_inv:\r\n",
        "\t\t\t\t\t \r\n",
        "\t\t\t\t\tt1 = (x4+x5) * ca2\r\n",
        "\t\t\t\t\ta2.next = t1\r\n",
        "\t\t\t\t\t\r\n",
        "\t\t\t\telse:\r\n",
        "\t\t\t\t\tt = (x2+x3) * ra3\r\n",
        "\t\t\t\t\td3.next = t\r\n",
        "\t\t\t\r\n",
        "\t\t\t  \r\n",
        "\r\n",
        "\t\t\t\t\t\t\t\t\t  \t\t\t\t\t          \r\n",
        "\t\telse:\r\n",
        "\t\t \r\n",
        "\t\t\tif even_odd:\r\n",
        "\t\t\t\t\t\t\r\n",
        "\t\t\t\tif fwd_inv:\r\n",
        "\t\t\t\t\tt = (x2+x3) * ca3\r\n",
        "\t\t\t\t\td3.next = t\r\n",
        "\t\t\t\telse:\r\n",
        "\t\t\t\t\tt1 = (x4+x5) * ra2\r\n",
        "\t\t\t\t\ta2.next = t1\t\t\t \r\n",
        "\t\t\telse: \r\n",
        "\t\t\t\t\r\n",
        "\t\t\t\tif fwd_inv:\r\n",
        "\t\t\t\t\tt1 = (x4+x5) * ca4\r\n",
        "\t\t\t\t\ta2.next = t1\r\n",
        "\t\t\t\telse:\r\n",
        "\t\t\t\t\tt = (x2+x3) * ra1\r\n",
        "\t\t\t\t\td3.next = t\r\n",
        "\t\t\t\t\t                 \r\n",
        "    \r\n",
        "                 \r\n",
        "\treturn rtl\r\n",
        "def convert(ver,both=False):\r\n",
        "\t\r\n",
        "\td_instance = add_mul(d3,a2,clk,x2,x3,x4,x5,p,even_odd,fwd_inv)\r\n",
        "\t\t \r\n",
        "\t\r\n",
        "\tif ver:\r\n",
        "\t\ttoVerilog(add_mul,d3,a2,clk,x2,x3,x4,x5,p,even_odd,fwd_inv)\r\n",
        "\t\tif both:\r\n",
        "\t\t\ttoVHDL(add_mul,d3,a2,clk,x2,x3,x4,x5,p,even_odd,fwd_inv)\t\t\r\n",
        "\telse:\r\n",
        "\t\ttoVHDL(add_mul,d3,a2,clk,x2,x3,x4,x5,p,even_odd,fwd_inv)\r\n",
        "#convert(True,True)\r\n",
        "#convert(True)\r\n",
        "#convert(False)\r\n"
       ]
      }
     ],
     "prompt_number": 2
    },
    {
     "cell_type": "code",
     "collapsed": false,
     "input": [
      "import multiple_add_mul"
     ],
     "language": "python",
     "metadata": {},
     "outputs": [
      {
       "output_type": "stream",
       "stream": "stdout",
       "text": [
        "8 <type 'list'>\n"
       ]
      }
     ],
     "prompt_number": 3
    },
    {
     "cell_type": "code",
     "collapsed": false,
     "input": [],
     "language": "python",
     "metadata": {},
     "outputs": []
    }
   ],
   "metadata": {}
  }
 ]
}