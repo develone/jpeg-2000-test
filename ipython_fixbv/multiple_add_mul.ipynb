{
 "metadata": {
  "name": "multiple_add_mul"
 },
 "nbformat": 3,
 "nbformat_minor": 0,
 "worksheets": [
  {
   "cells": [
    {
     "cell_type": "markdown",
     "metadata": {},
     "source": [
      "The following code will generate up to 8 instances of add_mul which is the main function of DWT used in JPEG 2000.  It will generate a list of signals"
     ]
    },
    {
     "cell_type": "code",
     "collapsed": false,
     "input": [
      "!cat multiple_add_mul.py"
     ],
     "language": "python",
     "metadata": {},
     "outputs": [
      {
       "output_type": "stream",
       "stream": "stdout",
       "text": [
        "from myhdl import *\r\n",
        "from add_mul import *\r\n",
        "def top_level(d3,a2,clk,x2,x3,x4,x5,p,even_odd,fwd_inv,n=8):\r\n",
        "\t\"\"\" Function doc \"\"\"\r\n",
        "\tmult_add_mul_inst = []\r\n",
        "\r\n",
        "\td3 = [Signal(fixbv(0)[ww]) for i in range(n)]\r\n",
        "\ta2 = [Signal(fixbv(0)[ww]) for i in range(n)]\r\n",
        "\tx2 = [Signal(fixbv(156)[ww]) for i in range(n)]\r\n",
        "\tx3 = [Signal(fixbv(164)[ww]) for i in range(n)]\r\n",
        "\tx4 = [Signal(fixbv(156)[ww]) for i in range(n)]\r\n",
        "\tx5 = [Signal(fixbv(156)[ww]) for i in range(n)]\r\n",
        "\tclk = Signal(bool(0))\r\n",
        "\teven_odd = [Signal(bool(0)) for i in range(n)]\r\n",
        "\tp = [Signal(bool(0)) for i in range(n)]\r\n",
        "\tfwd_inv = [Signal(bool(0)) for i in range(n)]\r\n",
        "\t#print d3,a2,clk,x2,x3,x4,x5,p,even_odd,fwd_inv\r\n",
        "\t \r\n",
        "\tfor i in range(n):\r\n",
        "\t\t \r\n",
        "\t\ttmp = add_mul(d3[i],a2[i],clk,x2[i],x3[i],x4[i],x5[i],p[i],even_odd[i],fwd_inv[i])\r\n",
        "\t\t \r\n",
        "\t\tmult_add_mul_inst.append(tmp)\r\n",
        "\t\t \r\n",
        "\t\r\n",
        "\treturn mult_add_mul_inst\r\n",
        "\t \r\n",
        "#print dir(top_level)\r\n",
        "#print dir(add_mul)\r\n",
        "mult_inst = top_level(d3,a2,clk,x2,x3,x4,x5,p,even_odd,fwd_inv)\r\n",
        "\r\n",
        "print len(mult_inst),type(mult_inst)\r\n",
        "\r\n"
       ]
      }
     ],
     "prompt_number": 2
    },
    {
     "cell_type": "code",
     "collapsed": false,
     "input": [
      "import multiple_add_mul"
     ],
     "language": "python",
     "metadata": {},
     "outputs": [
      {
       "output_type": "stream",
       "stream": "stdout",
       "text": [
        "8 <type 'list'>\n"
       ]
      }
     ],
     "prompt_number": 1
    },
    {
     "cell_type": "code",
     "collapsed": false,
     "input": [],
     "language": "python",
     "metadata": {},
     "outputs": []
    }
   ],
   "metadata": {}
  }
 ]
}