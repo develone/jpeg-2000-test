{
 "metadata": {
  "name": "",
  "signature": "sha256:797a02ba516aa7fc9c6cd41dbf82118d9b0d0deec24f0414ba4c712b6f4b32e7"
 },
 "nbformat": 3,
 "nbformat_minor": 0,
 "worksheets": [
  {
   "cells": [
    {
     "cell_type": "code",
     "collapsed": false,
     "input": [
      "from __future__ import division\n",
      "from __future__ import print_function\n",
      "\n",
      "import os\n",
      "\n",
      "from myhdl import *\n",
      "\n",
      "from myhdl_tools import vcd"
     ],
     "language": "python",
     "metadata": {},
     "outputs": [
      {
       "ename": "ImportError",
       "evalue": "cannot import name vcd",
       "output_type": "pyerr",
       "traceback": [
        "\u001b[1;31m---------------------------------------------------------------------------\u001b[0m\n\u001b[1;31mImportError\u001b[0m                               Traceback (most recent call last)",
        "\u001b[1;32m<ipython-input-6-d2a82d1b8a3f>\u001b[0m in \u001b[0;36m<module>\u001b[1;34m()\u001b[0m\n\u001b[0;32m      6\u001b[0m \u001b[1;32mfrom\u001b[0m \u001b[0mmyhdl\u001b[0m \u001b[1;32mimport\u001b[0m \u001b[1;33m*\u001b[0m\u001b[1;33m\u001b[0m\u001b[0m\n\u001b[0;32m      7\u001b[0m \u001b[1;33m\u001b[0m\u001b[0m\n\u001b[1;32m----> 8\u001b[1;33m \u001b[1;32mfrom\u001b[0m \u001b[0mmyhdl_tools\u001b[0m \u001b[1;32mimport\u001b[0m \u001b[0mvcd\u001b[0m\u001b[1;33m\u001b[0m\u001b[0m\n\u001b[0m",
        "\u001b[1;31mImportError\u001b[0m: cannot import name vcd"
       ]
      }
     ],
     "prompt_number": 6
    },
    {
     "cell_type": "markdown",
     "metadata": {},
     "source": [
      "First, clone the repository and run the ipython notebook in the cloned workspace:"
     ]
    },
    {
     "cell_type": "code",
     "collapsed": false,
     "input": [
      "Forward Cohen-Daubechies-Feauveau 9 tap / 7 tap wavelet transform   \n",
      "performed on all columns of the 2D n*n matrix signal s via lifting.\n",
      "The returned result is s, the modified input matrix.\n",
      "The highpass and lowpass results are stored on the left half and right\n",
      "half of s respectively, after the matrix is transposed."
     ],
     "language": "python",
     "metadata": {},
     "outputs": []
    },
    {
     "cell_type": "code",
     "collapsed": false,
     "input": [
      "from myhdl import *\n",
      "a1 = fixbv(-1.586134342, min=-8, max=8, res=1e-5)\n",
      "a2 = fixbv(-0.05298011854, min=-1, max=1, res=1e-5)\n",
      "a3 = fixbv(0.8829110762, min=-1, max=1, res=1e-5)\n",
      "a4 = fixbv(0.4435068522, min=-1,max=1, res=1e-5)\n",
      "t = fixbv(0, min=-20,max=20, res=1e-5)\n",
      "print bin(a1),bin(a2),bin(a3),bin(a4)\n",
      "print repr(a1),repr(a2),repr(a3),repr(a4)\n",
      "#t = a1 * 164\n",
      "print repr(t)"
     ],
     "language": "python",
     "metadata": {},
     "outputs": [
      {
       "output_type": "stream",
       "stream": "stdout",
       "text": [
        "1001101001111100110 10010011011111 11100010000001100 1110001100010011\n",
        "fixbv(-1.586136,  format=(21,3,17), ) fixbv(-0.052986,  format=(18,0,17), ) fixbv(0.882904,  format=(18,0,17), ) fixbv(0.443504,  format=(18,0,17), )\n",
        "fixbv(0.000000,  format=(23,5,17), )\n"
       ]
      }
     ],
     "prompt_number": 9
    },
    {
     "cell_type": "code",
     "collapsed": false,
     "input": [
      "\n",
      "def family_dynamics():\n",
      "    tickle = Signal(False)\n",
      "    angry = Signal(False)\n",
      "\n",
      "    @instance\n",
      "    def grumpy_old_man():\n",
      "        while True:\n",
      "            angry.next = True if tickle else False\n",
      "            yield delay(1)\n",
      "            \n",
      "    @instance\n",
      "    def toddler():\n",
      "        yield delay(50)\n",
      "        while True:\n",
      "            if not angry:\n",
      "                tickle.next = True\n",
      "            else:\n",
      "                tickle.next = True  # :)\n",
      "            yield delay(1)\n",
      "        \n",
      "    @instance\n",
      "    def fun_police():\n",
      "        yield delay(52)\n",
      "        assert angry\n",
      "        yield delay(200)\n",
      "        raise StopSimulation\n",
      "        \n",
      "    return grumpy_old_man, toddler, fun_police\n",
      "\n",
      "Simulation(traceSignals(family_dynamics)).run()\n",
      "vcd.parse_and_plot('family_dynamics.vcd')"
     ],
     "language": "python",
     "metadata": {},
     "outputs": [
      {
       "ename": "NameError",
       "evalue": "name 'vcd' is not defined",
       "output_type": "pyerr",
       "traceback": [
        "\u001b[1;31m---------------------------------------------------------------------------\u001b[0m\n\u001b[1;31mNameError\u001b[0m                                 Traceback (most recent call last)",
        "\u001b[1;32m<ipython-input-40-fd5841c27cde>\u001b[0m in \u001b[0;36m<module>\u001b[1;34m()\u001b[0m\n\u001b[0;32m     30\u001b[0m \u001b[1;33m\u001b[0m\u001b[0m\n\u001b[0;32m     31\u001b[0m \u001b[0mSimulation\u001b[0m\u001b[1;33m(\u001b[0m\u001b[0mtraceSignals\u001b[0m\u001b[1;33m(\u001b[0m\u001b[0mfamily_dynamics\u001b[0m\u001b[1;33m)\u001b[0m\u001b[1;33m)\u001b[0m\u001b[1;33m.\u001b[0m\u001b[0mrun\u001b[0m\u001b[1;33m(\u001b[0m\u001b[1;33m)\u001b[0m\u001b[1;33m\u001b[0m\u001b[0m\n\u001b[1;32m---> 32\u001b[1;33m \u001b[0mvcd\u001b[0m\u001b[1;33m.\u001b[0m\u001b[0mparse_and_plot\u001b[0m\u001b[1;33m(\u001b[0m\u001b[1;34m'family_dynamics.vcd'\u001b[0m\u001b[1;33m)\u001b[0m\u001b[1;33m\u001b[0m\u001b[0m\n\u001b[0m",
        "\u001b[1;31mNameError\u001b[0m: name 'vcd' is not defined"
       ]
      }
     ],
     "prompt_number": 40
    },
    {
     "cell_type": "code",
     "collapsed": false,
     "input": [],
     "language": "python",
     "metadata": {},
     "outputs": []
    }
   ],
   "metadata": {}
  }
 ]
}