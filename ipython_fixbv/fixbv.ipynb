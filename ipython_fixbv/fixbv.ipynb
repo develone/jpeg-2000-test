{
 "metadata": {
  "name": "",
  "signature": "sha256:95b33b084fb999ca769a7ea4b38fe2f559da84f9ca098b67848624954affbc31"
 },
 "nbformat": 3,
 "nbformat_minor": 0,
 "worksheets": [
  {
   "cells": [
    {
     "cell_type": "code",
     "collapsed": false,
     "input": [
      "from __future__ import division\n",
      "from __future__ import print_function\n",
      "\n",
      "import os\n",
      "\n",
      "from myhdl import *\n",
      "\n",
      "from myhdl_tools import vcd"
     ],
     "language": "python",
     "metadata": {},
     "outputs": [],
     "prompt_number": 1
    },
    {
     "cell_type": "markdown",
     "metadata": {},
     "source": [
      "First, clone the repository and run the ipython notebook in the cloned workspace:"
     ]
    },
    {
     "cell_type": "code",
     "collapsed": false,
     "input": [
      "Forward Cohen-Daubechies-Feauveau 9 tap / 7 tap wavelet transform   \n",
      "performed on all columns of the 2D n*n matrix signal s via lifting.\n",
      "The returned result is s, the modified input matrix.\n",
      "The highpass and lowpass results are stored on the left half and right\n",
      "half of s respectively, after the matrix is transposed."
     ],
     "language": "python",
     "metadata": {},
     "outputs": []
    },
    {
     "cell_type": "code",
     "collapsed": false,
     "input": [
      "from myhdl import *\n",
      "a1 = fixbv(-1.586134342, min=-8, max=8, res=1e-5)\n",
      "a2 = fixbv(-0.05298011854, min=-1, max=1, res=1e-5)\n",
      "a3 = fixbv(0.8829110762, min=-1, max=1, res=1e-5)\n",
      "a4 = fixbv(0.4435068522, min=-1,max=1, res=1e-5)\n",
      "t = fixbv(164, min=-200,max=200, res=1e-5)\n",
      "result = fixbv(0, min=-400,max=400, res=1e-5)\n",
      "print bin(a1),bin(a2),bin(a3),bin(a4),bin(t)\n",
      "print repr(a1),repr(a2),repr(a3),repr(a4),repr(t)\n",
      "result = a1 * t\n",
      "print 'a1 * t ', repr(result)\n",
      "print repr(result)"
     ],
     "language": "python",
     "metadata": {},
     "outputs": [
      {
       "output_type": "stream",
       "stream": "stdout",
       "text": [
        "1001101001111100110 10010011011111 11100010000001100 1110001100010011 1010010000000000000000000\n",
        "fixbv(-1.586136,  format=(21,3,17), ) fixbv(-0.052986,  format=(18,0,17), ) fixbv(0.882904,  format=(18,0,17), ) fixbv(0.443504,  format=(18,0,17), ) fixbv(164.000000,  format=(26,8,17), )\n",
        "('  %8d : calc_*_res ', 0, -1, 1, 0.5)\n",
        "a1 * t  fixbv(-260.126282,  format=(47,12,34), )\n",
        "fixbv(-260.126282,  format=(47,12,34), )\n"
       ]
      }
     ],
     "prompt_number": 8
    },
    {
     "cell_type": "markdown",
     "metadata": {},
     "source": [
      "Python 2d wavelet\n",
      "https://csc.cdf.toronto.edu/bb/YaBB.pl?num=1237293747\n",
      "Based on information from the this site.\n",
      "http://en.wikipedia.org/wiki/Cohen-Daubechies-Feauveau_wavelet\n",
      "Kris Othovsky Computer Science Community St. George."
     ]
    },
    {
     "cell_type": "markdown",
     "metadata": {},
     "source": [
      "Steps consist\n",
      "Reading a png file.\n",
      "Create a pix buffer\n",
      "Put the 2D image in 1D list\n",
      "Convert to floats\n",
      "Perform a forward CDF 9/7 transform on the image:\n",
      "    m = wavelet97lift.fwt97_2d(m, 1)\n",
      "Convert the list of lists matrix to an image.\n",
      "    wavelet97lift.seq_to_img(m, pix)\n",
      "Save the transformed image."
     ]
    },
    {
     "cell_type": "code",
     "collapsed": false,
     "input": [
      "import wavelet97lift as dwt\n",
      "\n",
      "im = dwt.Image.open(\"../lena_512.png\")\n",
      "pix = im.load()\n",
      "m = list(im.getdata())\n",
      "m = [m[i:i+im.size[0]] for i in range(0, len(m), im.size[0])]\n",
      "# Cast every item in the list to a float:\n",
      "for row in range(0, len(m)):\n",
      "        for col in range(0, len(m[0])):\n",
      "                m[row][col] = float(m[row][col])\n",
      "                \n",
      "# Perform a forward CDF 9/7 transform on the image:\n",
      "m = dwt.fwt97_2d(m, 1)\n",
      "# Convert the list of lists matrix to an image.    \n",
      "dwt.seq_to_img(m, pix) \n",
      " # Save the transformed image.\n",
      "im.save(\"test1_512_fwt.png\")\n",
      "mm = dwt.iwt97_2d(m, 1)\n",
      "dwt.seq_to_img(mm, pix)\n",
      "im.save(\"test1_512_iwt.png\")"
     ],
     "language": "python",
     "metadata": {},
     "outputs": [
      {
       "ename": "IndentationError",
       "evalue": "unexpected indent (wavelet97lift.py, line 65)",
       "output_type": "pyerr",
       "traceback": [
        "\u001b[1;36m  File \u001b[1;32m\"wavelet97lift.py\"\u001b[1;36m, line \u001b[1;32m65\u001b[0m\n\u001b[1;33m    a2 = fixbv(0, min = -DATA_WIDTH, max = DATA_WIDTH, res=1e-5)\u001b[0m\n\u001b[1;37m    ^\u001b[0m\n\u001b[1;31mIndentationError\u001b[0m\u001b[1;31m:\u001b[0m unexpected indent\n"
       ]
      }
     ],
     "prompt_number": 4
    },
    {
     "cell_type": "code",
     "collapsed": false,
     "input": [
      "from IPython.display import display,Image\n",
      "i = Image(filename=\"test1_512_fwt.png\")\n",
      "display(i)"
     ],
     "language": "python",
     "metadata": {},
     "outputs": [
      {
       "ename": "IOError",
       "evalue": "[Errno 2] No such file or directory: u'test1_512_fwt.png'",
       "output_type": "pyerr",
       "traceback": [
        "\u001b[1;31m---------------------------------------------------------------------------\u001b[0m\n\u001b[1;31mIOError\u001b[0m                                   Traceback (most recent call last)",
        "\u001b[1;32m<ipython-input-2-e228fb4f3b24>\u001b[0m in \u001b[0;36m<module>\u001b[1;34m()\u001b[0m\n\u001b[0;32m      1\u001b[0m \u001b[1;32mfrom\u001b[0m \u001b[0mIPython\u001b[0m\u001b[1;33m.\u001b[0m\u001b[0mdisplay\u001b[0m \u001b[1;32mimport\u001b[0m \u001b[0mdisplay\u001b[0m\u001b[1;33m,\u001b[0m\u001b[0mImage\u001b[0m\u001b[1;33m\u001b[0m\u001b[0m\n\u001b[1;32m----> 2\u001b[1;33m \u001b[0mi\u001b[0m \u001b[1;33m=\u001b[0m \u001b[0mImage\u001b[0m\u001b[1;33m(\u001b[0m\u001b[0mfilename\u001b[0m\u001b[1;33m=\u001b[0m\u001b[1;34m\"test1_512_fwt.png\"\u001b[0m\u001b[1;33m)\u001b[0m\u001b[1;33m\u001b[0m\u001b[0m\n\u001b[0m\u001b[0;32m      3\u001b[0m \u001b[0mdisplay\u001b[0m\u001b[1;33m(\u001b[0m\u001b[0mi\u001b[0m\u001b[1;33m)\u001b[0m\u001b[1;33m\u001b[0m\u001b[0m\n",
        "\u001b[1;32m/usr/lib/python2.7/site-packages/IPython/core/display.pyc\u001b[0m in \u001b[0;36m__init__\u001b[1;34m(self, data, url, filename, format, embed, width, height, retina)\u001b[0m\n\u001b[0;32m    644\u001b[0m         \u001b[0mself\u001b[0m\u001b[1;33m.\u001b[0m\u001b[0mheight\u001b[0m \u001b[1;33m=\u001b[0m \u001b[0mheight\u001b[0m\u001b[1;33m\u001b[0m\u001b[0m\n\u001b[0;32m    645\u001b[0m         \u001b[0mself\u001b[0m\u001b[1;33m.\u001b[0m\u001b[0mretina\u001b[0m \u001b[1;33m=\u001b[0m \u001b[0mretina\u001b[0m\u001b[1;33m\u001b[0m\u001b[0m\n\u001b[1;32m--> 646\u001b[1;33m         \u001b[0msuper\u001b[0m\u001b[1;33m(\u001b[0m\u001b[0mImage\u001b[0m\u001b[1;33m,\u001b[0m \u001b[0mself\u001b[0m\u001b[1;33m)\u001b[0m\u001b[1;33m.\u001b[0m\u001b[0m__init__\u001b[0m\u001b[1;33m(\u001b[0m\u001b[0mdata\u001b[0m\u001b[1;33m=\u001b[0m\u001b[0mdata\u001b[0m\u001b[1;33m,\u001b[0m \u001b[0murl\u001b[0m\u001b[1;33m=\u001b[0m\u001b[0murl\u001b[0m\u001b[1;33m,\u001b[0m \u001b[0mfilename\u001b[0m\u001b[1;33m=\u001b[0m\u001b[0mfilename\u001b[0m\u001b[1;33m)\u001b[0m\u001b[1;33m\u001b[0m\u001b[0m\n\u001b[0m\u001b[0;32m    647\u001b[0m \u001b[1;33m\u001b[0m\u001b[0m\n\u001b[0;32m    648\u001b[0m         \u001b[1;32mif\u001b[0m \u001b[0mretina\u001b[0m\u001b[1;33m:\u001b[0m\u001b[1;33m\u001b[0m\u001b[0m\n",
        "\u001b[1;32m/usr/lib/python2.7/site-packages/IPython/core/display.pyc\u001b[0m in \u001b[0;36m__init__\u001b[1;34m(self, data, url, filename)\u001b[0m\n\u001b[0;32m    334\u001b[0m         \u001b[0mself\u001b[0m\u001b[1;33m.\u001b[0m\u001b[0mfilename\u001b[0m \u001b[1;33m=\u001b[0m \u001b[0mNone\u001b[0m \u001b[1;32mif\u001b[0m \u001b[0mfilename\u001b[0m \u001b[1;32mis\u001b[0m \u001b[0mNone\u001b[0m \u001b[1;32melse\u001b[0m \u001b[0municode_type\u001b[0m\u001b[1;33m(\u001b[0m\u001b[0mfilename\u001b[0m\u001b[1;33m)\u001b[0m\u001b[1;33m\u001b[0m\u001b[0m\n\u001b[0;32m    335\u001b[0m \u001b[1;33m\u001b[0m\u001b[0m\n\u001b[1;32m--> 336\u001b[1;33m         \u001b[0mself\u001b[0m\u001b[1;33m.\u001b[0m\u001b[0mreload\u001b[0m\u001b[1;33m(\u001b[0m\u001b[1;33m)\u001b[0m\u001b[1;33m\u001b[0m\u001b[0m\n\u001b[0m\u001b[0;32m    337\u001b[0m         \u001b[0mself\u001b[0m\u001b[1;33m.\u001b[0m\u001b[0m_check_data\u001b[0m\u001b[1;33m(\u001b[0m\u001b[1;33m)\u001b[0m\u001b[1;33m\u001b[0m\u001b[0m\n\u001b[0;32m    338\u001b[0m \u001b[1;33m\u001b[0m\u001b[0m\n",
        "\u001b[1;32m/usr/lib/python2.7/site-packages/IPython/core/display.pyc\u001b[0m in \u001b[0;36mreload\u001b[1;34m(self)\u001b[0m\n\u001b[0;32m    666\u001b[0m         \u001b[1;34m\"\"\"Reload the raw data from file or URL.\"\"\"\u001b[0m\u001b[1;33m\u001b[0m\u001b[0m\n\u001b[0;32m    667\u001b[0m         \u001b[1;32mif\u001b[0m \u001b[0mself\u001b[0m\u001b[1;33m.\u001b[0m\u001b[0membed\u001b[0m\u001b[1;33m:\u001b[0m\u001b[1;33m\u001b[0m\u001b[0m\n\u001b[1;32m--> 668\u001b[1;33m             \u001b[0msuper\u001b[0m\u001b[1;33m(\u001b[0m\u001b[0mImage\u001b[0m\u001b[1;33m,\u001b[0m\u001b[0mself\u001b[0m\u001b[1;33m)\u001b[0m\u001b[1;33m.\u001b[0m\u001b[0mreload\u001b[0m\u001b[1;33m(\u001b[0m\u001b[1;33m)\u001b[0m\u001b[1;33m\u001b[0m\u001b[0m\n\u001b[0m\u001b[0;32m    669\u001b[0m             \u001b[1;32mif\u001b[0m \u001b[0mself\u001b[0m\u001b[1;33m.\u001b[0m\u001b[0mretina\u001b[0m\u001b[1;33m:\u001b[0m\u001b[1;33m\u001b[0m\u001b[0m\n\u001b[0;32m    670\u001b[0m                 \u001b[0mself\u001b[0m\u001b[1;33m.\u001b[0m\u001b[0m_retina_shape\u001b[0m\u001b[1;33m(\u001b[0m\u001b[1;33m)\u001b[0m\u001b[1;33m\u001b[0m\u001b[0m\n",
        "\u001b[1;32m/usr/lib/python2.7/site-packages/IPython/core/display.pyc\u001b[0m in \u001b[0;36mreload\u001b[1;34m(self)\u001b[0m\n\u001b[0;32m    344\u001b[0m         \u001b[1;34m\"\"\"Reload the raw data from file or URL.\"\"\"\u001b[0m\u001b[1;33m\u001b[0m\u001b[0m\n\u001b[0;32m    345\u001b[0m         \u001b[1;32mif\u001b[0m \u001b[0mself\u001b[0m\u001b[1;33m.\u001b[0m\u001b[0mfilename\u001b[0m \u001b[1;32mis\u001b[0m \u001b[1;32mnot\u001b[0m \u001b[0mNone\u001b[0m\u001b[1;33m:\u001b[0m\u001b[1;33m\u001b[0m\u001b[0m\n\u001b[1;32m--> 346\u001b[1;33m             \u001b[1;32mwith\u001b[0m \u001b[0mopen\u001b[0m\u001b[1;33m(\u001b[0m\u001b[0mself\u001b[0m\u001b[1;33m.\u001b[0m\u001b[0mfilename\u001b[0m\u001b[1;33m,\u001b[0m \u001b[0mself\u001b[0m\u001b[1;33m.\u001b[0m\u001b[0m_read_flags\u001b[0m\u001b[1;33m)\u001b[0m \u001b[1;32mas\u001b[0m \u001b[0mf\u001b[0m\u001b[1;33m:\u001b[0m\u001b[1;33m\u001b[0m\u001b[0m\n\u001b[0m\u001b[0;32m    347\u001b[0m                 \u001b[0mself\u001b[0m\u001b[1;33m.\u001b[0m\u001b[0mdata\u001b[0m \u001b[1;33m=\u001b[0m \u001b[0mf\u001b[0m\u001b[1;33m.\u001b[0m\u001b[0mread\u001b[0m\u001b[1;33m(\u001b[0m\u001b[1;33m)\u001b[0m\u001b[1;33m\u001b[0m\u001b[0m\n\u001b[0;32m    348\u001b[0m         \u001b[1;32melif\u001b[0m \u001b[0mself\u001b[0m\u001b[1;33m.\u001b[0m\u001b[0murl\u001b[0m \u001b[1;32mis\u001b[0m \u001b[1;32mnot\u001b[0m \u001b[0mNone\u001b[0m\u001b[1;33m:\u001b[0m\u001b[1;33m\u001b[0m\u001b[0m\n",
        "\u001b[1;31mIOError\u001b[0m: [Errno 2] No such file or directory: u'test1_512_fwt.png'"
       ]
      }
     ],
     "prompt_number": 2
    },
    {
     "cell_type": "code",
     "collapsed": false,
     "input": [
      "from IPython.display import display,Image\n",
      "ii = Image(filename=\"test1_512_iwt.png\")\n",
      "display(ii)"
     ],
     "language": "python",
     "metadata": {},
     "outputs": [
      {
       "ename": "IOError",
       "evalue": "[Errno 2] No such file or directory: u'test1_512_iwt.png'",
       "output_type": "pyerr",
       "traceback": [
        "\u001b[1;31m---------------------------------------------------------------------------\u001b[0m\n\u001b[1;31mIOError\u001b[0m                                   Traceback (most recent call last)",
        "\u001b[1;32m<ipython-input-3-22887440c08e>\u001b[0m in \u001b[0;36m<module>\u001b[1;34m()\u001b[0m\n\u001b[0;32m      1\u001b[0m \u001b[1;32mfrom\u001b[0m \u001b[0mIPython\u001b[0m\u001b[1;33m.\u001b[0m\u001b[0mdisplay\u001b[0m \u001b[1;32mimport\u001b[0m \u001b[0mdisplay\u001b[0m\u001b[1;33m,\u001b[0m\u001b[0mImage\u001b[0m\u001b[1;33m\u001b[0m\u001b[0m\n\u001b[1;32m----> 2\u001b[1;33m \u001b[0mii\u001b[0m \u001b[1;33m=\u001b[0m \u001b[0mImage\u001b[0m\u001b[1;33m(\u001b[0m\u001b[0mfilename\u001b[0m\u001b[1;33m=\u001b[0m\u001b[1;34m\"test1_512_iwt.png\"\u001b[0m\u001b[1;33m)\u001b[0m\u001b[1;33m\u001b[0m\u001b[0m\n\u001b[0m\u001b[0;32m      3\u001b[0m \u001b[0mdisplay\u001b[0m\u001b[1;33m(\u001b[0m\u001b[0mii\u001b[0m\u001b[1;33m)\u001b[0m\u001b[1;33m\u001b[0m\u001b[0m\n",
        "\u001b[1;32m/usr/lib/python2.7/site-packages/IPython/core/display.pyc\u001b[0m in \u001b[0;36m__init__\u001b[1;34m(self, data, url, filename, format, embed, width, height, retina)\u001b[0m\n\u001b[0;32m    644\u001b[0m         \u001b[0mself\u001b[0m\u001b[1;33m.\u001b[0m\u001b[0mheight\u001b[0m \u001b[1;33m=\u001b[0m \u001b[0mheight\u001b[0m\u001b[1;33m\u001b[0m\u001b[0m\n\u001b[0;32m    645\u001b[0m         \u001b[0mself\u001b[0m\u001b[1;33m.\u001b[0m\u001b[0mretina\u001b[0m \u001b[1;33m=\u001b[0m \u001b[0mretina\u001b[0m\u001b[1;33m\u001b[0m\u001b[0m\n\u001b[1;32m--> 646\u001b[1;33m         \u001b[0msuper\u001b[0m\u001b[1;33m(\u001b[0m\u001b[0mImage\u001b[0m\u001b[1;33m,\u001b[0m \u001b[0mself\u001b[0m\u001b[1;33m)\u001b[0m\u001b[1;33m.\u001b[0m\u001b[0m__init__\u001b[0m\u001b[1;33m(\u001b[0m\u001b[0mdata\u001b[0m\u001b[1;33m=\u001b[0m\u001b[0mdata\u001b[0m\u001b[1;33m,\u001b[0m \u001b[0murl\u001b[0m\u001b[1;33m=\u001b[0m\u001b[0murl\u001b[0m\u001b[1;33m,\u001b[0m \u001b[0mfilename\u001b[0m\u001b[1;33m=\u001b[0m\u001b[0mfilename\u001b[0m\u001b[1;33m)\u001b[0m\u001b[1;33m\u001b[0m\u001b[0m\n\u001b[0m\u001b[0;32m    647\u001b[0m \u001b[1;33m\u001b[0m\u001b[0m\n\u001b[0;32m    648\u001b[0m         \u001b[1;32mif\u001b[0m \u001b[0mretina\u001b[0m\u001b[1;33m:\u001b[0m\u001b[1;33m\u001b[0m\u001b[0m\n",
        "\u001b[1;32m/usr/lib/python2.7/site-packages/IPython/core/display.pyc\u001b[0m in \u001b[0;36m__init__\u001b[1;34m(self, data, url, filename)\u001b[0m\n\u001b[0;32m    334\u001b[0m         \u001b[0mself\u001b[0m\u001b[1;33m.\u001b[0m\u001b[0mfilename\u001b[0m \u001b[1;33m=\u001b[0m \u001b[0mNone\u001b[0m \u001b[1;32mif\u001b[0m \u001b[0mfilename\u001b[0m \u001b[1;32mis\u001b[0m \u001b[0mNone\u001b[0m \u001b[1;32melse\u001b[0m \u001b[0municode_type\u001b[0m\u001b[1;33m(\u001b[0m\u001b[0mfilename\u001b[0m\u001b[1;33m)\u001b[0m\u001b[1;33m\u001b[0m\u001b[0m\n\u001b[0;32m    335\u001b[0m \u001b[1;33m\u001b[0m\u001b[0m\n\u001b[1;32m--> 336\u001b[1;33m         \u001b[0mself\u001b[0m\u001b[1;33m.\u001b[0m\u001b[0mreload\u001b[0m\u001b[1;33m(\u001b[0m\u001b[1;33m)\u001b[0m\u001b[1;33m\u001b[0m\u001b[0m\n\u001b[0m\u001b[0;32m    337\u001b[0m         \u001b[0mself\u001b[0m\u001b[1;33m.\u001b[0m\u001b[0m_check_data\u001b[0m\u001b[1;33m(\u001b[0m\u001b[1;33m)\u001b[0m\u001b[1;33m\u001b[0m\u001b[0m\n\u001b[0;32m    338\u001b[0m \u001b[1;33m\u001b[0m\u001b[0m\n",
        "\u001b[1;32m/usr/lib/python2.7/site-packages/IPython/core/display.pyc\u001b[0m in \u001b[0;36mreload\u001b[1;34m(self)\u001b[0m\n\u001b[0;32m    666\u001b[0m         \u001b[1;34m\"\"\"Reload the raw data from file or URL.\"\"\"\u001b[0m\u001b[1;33m\u001b[0m\u001b[0m\n\u001b[0;32m    667\u001b[0m         \u001b[1;32mif\u001b[0m \u001b[0mself\u001b[0m\u001b[1;33m.\u001b[0m\u001b[0membed\u001b[0m\u001b[1;33m:\u001b[0m\u001b[1;33m\u001b[0m\u001b[0m\n\u001b[1;32m--> 668\u001b[1;33m             \u001b[0msuper\u001b[0m\u001b[1;33m(\u001b[0m\u001b[0mImage\u001b[0m\u001b[1;33m,\u001b[0m\u001b[0mself\u001b[0m\u001b[1;33m)\u001b[0m\u001b[1;33m.\u001b[0m\u001b[0mreload\u001b[0m\u001b[1;33m(\u001b[0m\u001b[1;33m)\u001b[0m\u001b[1;33m\u001b[0m\u001b[0m\n\u001b[0m\u001b[0;32m    669\u001b[0m             \u001b[1;32mif\u001b[0m \u001b[0mself\u001b[0m\u001b[1;33m.\u001b[0m\u001b[0mretina\u001b[0m\u001b[1;33m:\u001b[0m\u001b[1;33m\u001b[0m\u001b[0m\n\u001b[0;32m    670\u001b[0m                 \u001b[0mself\u001b[0m\u001b[1;33m.\u001b[0m\u001b[0m_retina_shape\u001b[0m\u001b[1;33m(\u001b[0m\u001b[1;33m)\u001b[0m\u001b[1;33m\u001b[0m\u001b[0m\n",
        "\u001b[1;32m/usr/lib/python2.7/site-packages/IPython/core/display.pyc\u001b[0m in \u001b[0;36mreload\u001b[1;34m(self)\u001b[0m\n\u001b[0;32m    344\u001b[0m         \u001b[1;34m\"\"\"Reload the raw data from file or URL.\"\"\"\u001b[0m\u001b[1;33m\u001b[0m\u001b[0m\n\u001b[0;32m    345\u001b[0m         \u001b[1;32mif\u001b[0m \u001b[0mself\u001b[0m\u001b[1;33m.\u001b[0m\u001b[0mfilename\u001b[0m \u001b[1;32mis\u001b[0m \u001b[1;32mnot\u001b[0m \u001b[0mNone\u001b[0m\u001b[1;33m:\u001b[0m\u001b[1;33m\u001b[0m\u001b[0m\n\u001b[1;32m--> 346\u001b[1;33m             \u001b[1;32mwith\u001b[0m \u001b[0mopen\u001b[0m\u001b[1;33m(\u001b[0m\u001b[0mself\u001b[0m\u001b[1;33m.\u001b[0m\u001b[0mfilename\u001b[0m\u001b[1;33m,\u001b[0m \u001b[0mself\u001b[0m\u001b[1;33m.\u001b[0m\u001b[0m_read_flags\u001b[0m\u001b[1;33m)\u001b[0m \u001b[1;32mas\u001b[0m \u001b[0mf\u001b[0m\u001b[1;33m:\u001b[0m\u001b[1;33m\u001b[0m\u001b[0m\n\u001b[0m\u001b[0;32m    347\u001b[0m                 \u001b[0mself\u001b[0m\u001b[1;33m.\u001b[0m\u001b[0mdata\u001b[0m \u001b[1;33m=\u001b[0m \u001b[0mf\u001b[0m\u001b[1;33m.\u001b[0m\u001b[0mread\u001b[0m\u001b[1;33m(\u001b[0m\u001b[1;33m)\u001b[0m\u001b[1;33m\u001b[0m\u001b[0m\n\u001b[0;32m    348\u001b[0m         \u001b[1;32melif\u001b[0m \u001b[0mself\u001b[0m\u001b[1;33m.\u001b[0m\u001b[0murl\u001b[0m \u001b[1;32mis\u001b[0m \u001b[1;32mnot\u001b[0m \u001b[0mNone\u001b[0m\u001b[1;33m:\u001b[0m\u001b[1;33m\u001b[0m\u001b[0m\n",
        "\u001b[1;31mIOError\u001b[0m: [Errno 2] No such file or directory: u'test1_512_iwt.png'"
       ]
      }
     ],
     "prompt_number": 3
    },
    {
     "cell_type": "code",
     "collapsed": false,
     "input": [
      "\n",
      "def family_dynamics():\n",
      "    tickle = Signal(False)\n",
      "    angry = Signal(False)\n",
      "\n",
      "    @instance\n",
      "    def grumpy_old_man():\n",
      "        while True:\n",
      "            angry.next = True if tickle else False\n",
      "            yield delay(1)\n",
      "            \n",
      "    @instance\n",
      "    def toddler():\n",
      "        yield delay(50)\n",
      "        while True:\n",
      "            if not angry:\n",
      "                tickle.next = True\n",
      "            else:\n",
      "                tickle.next = True  # :)\n",
      "            yield delay(1)\n",
      "        \n",
      "    @instance\n",
      "    def fun_police():\n",
      "        yield delay(52)\n",
      "        assert angry\n",
      "        yield delay(200)\n",
      "        raise StopSimulation\n",
      "        \n",
      "    return grumpy_old_man, toddler, fun_police\n",
      "\n",
      "Simulation(traceSignals(family_dynamics)).run()\n",
      "vcd.parse_and_plot('family_dynamics.vcd')"
     ],
     "language": "python",
     "metadata": {},
     "outputs": [
      {
       "metadata": {},
       "output_type": "pyout",
       "prompt_number": 2,
       "text": [
        "(<matplotlib.figure.Figure at 0x4464e90>,\n",
        " <matplotlib.axes.AxesSubplot at 0x449f590>)"
       ]
      },
      {
       "metadata": {},
       "output_type": "display_data",
       "png": "[encoded data removed]",
       "text": [
        "<matplotlib.figure.Figure at 0x4464e90>"
       ]
      }
     ],
     "prompt_number": 2
    },
    {
     "cell_type": "markdown",
     "metadata": {},
     "source": [
      "The file add_mul.py will create an instance of add_mul and generate the verilog vhdl HDL  "
     ]
    },
    {
     "cell_type": "code",
     "collapsed": false,
     "input": [
      "!cat add_mul.py\n",
      "import add_mul"
     ],
     "language": "python",
     "metadata": {},
     "outputs": [
      {
       "output_type": "stream",
       "stream": "stdout",
       "text": [
        "from myhdl import *\r\n",
        "\r\n",
        "\r\n",
        "DATA_WIDTH = 262144\r\n",
        "# 9/7 Coefficients:\r\n",
        "#a1 = -1.586134342\r\n",
        "#a2 = -0.05298011854\r\n",
        "#a3 = 0.8829110762\r\n",
        "#a4 = 0.4435068522\r\n",
        "\r\n",
        "d3 = Signal(fixbv(0, min = -DATA_WIDTH, max = DATA_WIDTH, res=1e-5))\r\n",
        "a2 = Signal(fixbv(0, min = -DATA_WIDTH, max = DATA_WIDTH, res=1e-5))\r\n",
        " \r\n",
        "\r\n",
        "x1 = Signal(fixbv(164, min = -DATA_WIDTH, max = DATA_WIDTH))\r\n",
        "x2 = Signal(fixbv(156, min = -DATA_WIDTH, max = DATA_WIDTH))\r\n",
        "x3 = Signal(fixbv(164, min = -DATA_WIDTH, max = DATA_WIDTH)) \r\n",
        "#from prev operation\r\n",
        "x4 = Signal(fixbv(156, min = -DATA_WIDTH, max = DATA_WIDTH))\r\n",
        "x5 = Signal(fixbv(156, min = -DATA_WIDTH, max = DATA_WIDTH))\r\n",
        "clk = Signal(bool(0))\r\n",
        "odd_even = Signal(bool(0))            \r\n",
        "def add_mul(d3,a2,clk,x1,x2,x3,x4,x5,odd_even):\r\n",
        "\tca1 = Signal(fixbv(-1.586134342, min = -DATA_WIDTH, max = DATA_WIDTH, res=1e-5))\r\n",
        "\tca2 = Signal(fixbv(-0.05298011854, min = -DATA_WIDTH, max = DATA_WIDTH, res=1e-5))\r\n",
        "\tca3 = Signal(fixbv(0.8829110762, min = -DATA_WIDTH, max = DATA_WIDTH, res=1e-5))\r\n",
        "\tca4 = Signal(fixbv(0.4435068522, min = -DATA_WIDTH, max = DATA_WIDTH, res=1e-5))\r\n",
        "\tt = Signal(fixbv(0, min = -DATA_WIDTH, max = DATA_WIDTH,res=1e-5))\r\n",
        "\tt1 = Signal(fixbv(0, min = -DATA_WIDTH, max = DATA_WIDTH,res=1e-5))\r\n",
        "\t@always(clk.posedge)\r\n",
        "\tdef rtl():\r\n",
        "\t\tif odd_even == 1:\r\n",
        "\t\t\tt = (x2+x3) * ca1 \r\n",
        "\t\t\tt1 = (x4+x5) * ca2\t\r\n",
        "\t\t\td3.next = t\r\n",
        "\t\t\ta2.next = t1                 \r\n",
        "\t\telse:\r\n",
        "\t\t\tt = (x2+x3) * ca3 \r\n",
        "\t\t\tt1 = (x4+x5) * ca4\t\r\n",
        "\t\t\td3.next = t\r\n",
        "\t\t\ta2.next = t1\r\n",
        "                 \r\n",
        "                 \r\n",
        "\treturn rtl\r\n",
        "        \r\n",
        "d_instance = add_mul(d3,a2,clk,x1,x2,x3,x4,x5,odd_even)\r\n",
        "\r\n",
        "\r\n",
        "toVerilog(add_mul,d3,a2,clk,x1,x2,x3,x4,x5,odd_even)\r\n",
        "toVHDL(add_mul,d3,a2,clk,x1,x2,x3,x4,x5,odd_even)\r\n"
       ]
      },
      {
       "output_type": "stream",
       "stream": "stdout",
       "text": [
        "('  %8d : calc_*_res ', 0, -512, 512, 0.5)\n",
        "('  %8d : calc_*_res ', 0, -512, 512, 0.5)\n",
        "('  %8d : calc_*_res ', 0, -512, 512, 0.5)\n",
        "('  %8d : calc_*_res ', 0, -512, 512, 0.5)\n",
        "('  %8d : calc_*_res ', 0, -512, 512, 0.5)\n"
       ]
      },
      {
       "output_type": "stream",
       "stream": "stderr",
       "text": [
        "** ToVerilogWarning: Port is not used: x1\n",
        "** ToVerilogWarning: Signal is not driven: ca3\n",
        "** ToVerilogWarning: Signal is not driven: ca2\n",
        "** ToVerilogWarning: Signal is not driven: ca1\n",
        "** ToVerilogWarning: Signal is not driven: ca4\n",
        "** ToVHDLWarning: Port is not used: x1\n",
        "** ToVHDLWarning: Signal is not driven: ca3\n",
        "** ToVHDLWarning: Signal is not driven: ca2\n",
        "** ToVHDLWarning: Signal is not driven: ca1\n",
        "** ToVHDLWarning: Signal is not driven: ca4\n"
       ]
      }
     ],
     "prompt_number": 1
    },
    {
     "cell_type": "code",
     "collapsed": false,
     "input": [
      "!cat add_mul.v\n"
     ],
     "language": "python",
     "metadata": {},
     "outputs": [
      {
       "output_type": "stream",
       "stream": "stdout",
       "text": [
        "// File: add_mul.v\r\n",
        "// Generated by MyHDL 0.9dev\r\n",
        "// Date: Fri Jun 20 13:27:02 2014\r\n",
        "\r\n",
        "\r\n",
        "`timescale 1ns/10ps\r\n",
        "\r\n",
        "module add_mul (\r\n",
        "    d3,\r\n",
        "    a2,\r\n",
        "    clk,\r\n",
        "    x1,\r\n",
        "    x2,\r\n",
        "    x3,\r\n",
        "    x4,\r\n",
        "    x5,\r\n",
        "    odd_even\r\n",
        ");\r\n",
        "\r\n",
        "\r\n",
        "output signed [35:0] d3;\r\n",
        "reg signed [35:0] d3;\r\n",
        "output signed [35:0] a2;\r\n",
        "reg signed [35:0] a2;\r\n",
        "input clk;\r\n",
        "input signed [10:0] x1;\r\n",
        "input signed [10:0] x2;\r\n",
        "input signed [10:0] x3;\r\n",
        "input signed [10:0] x4;\r\n",
        "input signed [10:0] x5;\r\n",
        "input odd_even;\r\n",
        "\r\n",
        "wire [35:0] ca3;\r\n",
        "wire [35:0] ca2;\r\n",
        "wire [35:0] ca1;\r\n",
        "wire [35:0] ca4;\r\n",
        "\r\n",
        "\r\n",
        "assign ca3 = 115724;\r\n",
        "assign ca2 = -6945;\r\n",
        "assign ca1 = -207898;\r\n",
        "assign ca4 = 58131;\r\n",
        "\r\n",
        "\r\n",
        "\r\n",
        "always @(posedge clk) begin: ADD_MUL_RTL\r\n",
        "    integer t;\r\n",
        "    integer t1;\r\n",
        "    if ((odd_even == 1)) begin\r\n",
        "        t = ((x2 + x3) * ca1);\r\n",
        "        t1 = ((x4 + x5) * ca2);\r\n",
        "        d3 <= t;\r\n",
        "        a2 <= t1;\r\n",
        "    end\r\n",
        "    else begin\r\n",
        "        t = ((x2 + x3) * ca3);\r\n",
        "        t1 = ((x4 + x5) * ca4);\r\n",
        "        d3 <= t;\r\n",
        "        a2 <= t1;\r\n",
        "    end\r\n",
        "end\r\n",
        "\r\n",
        "endmodule\r\n"
       ]
      }
     ],
     "prompt_number": 4
    },
    {
     "cell_type": "code",
     "collapsed": false,
     "input": [
      "!cat add_mul.vhd"
     ],
     "language": "python",
     "metadata": {},
     "outputs": [
      {
       "output_type": "stream",
       "stream": "stdout",
       "text": [
        "-- File: add_mul.vhd\r\n",
        "-- Generated by MyHDL 0.9dev\r\n",
        "-- Date: Fri Jun 20 13:37:28 2014\r\n",
        "\r\n",
        "\r\n",
        "library IEEE;\r\n",
        "use IEEE.std_logic_1164.all;\r\n",
        "use IEEE.numeric_std.all;\r\n",
        "use std.textio.all;\r\n",
        "\r\n",
        "use work.pck_myhdl_09.all;\r\n",
        "\r\n",
        "entity add_mul is\r\n",
        "    port (\r\n",
        "        d3: out signed (35 downto 0);\r\n",
        "        a2: out signed (35 downto 0);\r\n",
        "        clk: in std_logic;\r\n",
        "        x1: in signed (10 downto 0);\r\n",
        "        x2: in signed (10 downto 0);\r\n",
        "        x3: in signed (10 downto 0);\r\n",
        "        x4: in signed (10 downto 0);\r\n",
        "        x5: in signed (10 downto 0);\r\n",
        "        odd_even: in std_logic\r\n",
        "    );\r\n",
        "end entity add_mul;\r\n",
        "\r\n",
        "\r\n",
        "architecture MyHDL of add_mul is\r\n",
        "\r\n",
        "\r\n",
        "\r\n",
        "\r\n",
        "\r\n",
        "signal ca3: signed (35 downto 0);\r\n",
        "signal ca2: signed (35 downto 0);\r\n",
        "signal ca1: signed (35 downto 0);\r\n",
        "signal ca4: signed (35 downto 0);\r\n",
        "\r\n",
        "begin\r\n",
        "\r\n",
        "ca3 <= to_signed(115724, 36);\r\n",
        "ca2 <= to_signed(-6945, 36);\r\n",
        "ca1 <= to_signed(-207898, 36);\r\n",
        "ca4 <= to_signed(58131, 36);\r\n",
        "\r\n",
        "\r\n",
        "\r\n",
        "ADD_MUL_RTL: process (clk) is\r\n",
        "    variable t: integer;\r\n",
        "    variable t1: integer;\r\n",
        "begin\r\n",
        "    if rising_edge(clk) then\r\n",
        "        if (odd_even = '1') then\r\n",
        "            t := to_integer((x2 + x3) * ca1);\r\n",
        "            t1 := to_integer((x4 + x5) * ca2);\r\n",
        "            d3 <= to_signed(t, 36);\r\n",
        "            a2 <= to_signed(t1, 36);\r\n",
        "        else\r\n",
        "            t := to_integer((x2 + x3) * ca3);\r\n",
        "            t1 := to_integer((x4 + x5) * ca4);\r\n",
        "            d3 <= to_signed(t, 36);\r\n",
        "            a2 <= to_signed(t1, 36);\r\n",
        "        end if;\r\n",
        "    end if;\r\n",
        "end process ADD_MUL_RTL;\r\n",
        "\r\n",
        "end architecture MyHDL;\r\n"
       ]
      }
     ],
     "prompt_number": 2
    },
    {
     "cell_type": "code",
     "collapsed": false,
     "input": [],
     "language": "python",
     "metadata": {},
     "outputs": []
    }
   ],
   "metadata": {}
  }
 ]
}